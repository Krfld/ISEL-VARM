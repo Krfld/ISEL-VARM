{
 "cells": [
  {
   "cell_type": "code",
   "execution_count": null,
   "metadata": {},
   "outputs": [],
   "source": [
    "import matplotlib.pyplot as plt\n",
    "import numpy as np\n",
    "import numpy.random as rd\n",
    "import cv2\n"
   ]
  },
  {
   "cell_type": "code",
   "execution_count": null,
   "metadata": {},
   "outputs": [],
   "source": [
    "image = cv2.imread('cillian/cillian04.jpg')\n",
    "hat = cv2.imread('objects/cowboy.jpg')\n",
    "glasses = cv2.imread('objects/like a boss.jpg')\n",
    "\n",
    "## convert to hsv\n",
    "hsv = cv2.cvtColor(glasses, cv2.COLOR_BGR2HSV)\n",
    "\n",
    "## mask of green (36,25,25) ~ (86, 255,255)\n",
    "mask = cv2.inRange(hsv, (36, 25, 25), (86, 255,255)) # green\n",
    "\n",
    "cv2.imshow('mask', mask)\n",
    "while cv2.waitKey(20) & 0xFF != ord('q'):\n",
    "    pass\n"
   ]
  }
 ],
 "metadata": {
  "interpreter": {
   "hash": "c279b18b8beb4a8c881d91c61b7376ce8b2594517df33056bfd5bd915aacbce0"
  },
  "kernelspec": {
   "display_name": "Python 3.10.3 64-bit",
   "language": "python",
   "name": "python3"
  },
  "language_info": {
   "codemirror_mode": {
    "name": "ipython",
    "version": 3
   },
   "file_extension": ".py",
   "mimetype": "text/x-python",
   "name": "python",
   "nbconvert_exporter": "python",
   "pygments_lexer": "ipython3",
   "version": "3.10.3"
  },
  "orig_nbformat": 4
 },
 "nbformat": 4,
 "nbformat_minor": 2
}
